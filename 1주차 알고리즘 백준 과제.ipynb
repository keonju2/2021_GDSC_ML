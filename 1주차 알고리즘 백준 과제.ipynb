{
 "cells": [
  {
   "cell_type": "markdown",
   "metadata": {},
   "source": [
    "# GDSC 파이썬 알고리즘 1주차 과제로 solved.ac의 class 2단계 8문항을 풀어보았다.  \n",
    "\n",
    "파이썬 알고리즘 과제는 알고리즘 공부를 많이 하지 않은 나로써는 조금 어려웠다.  \n",
    "\n",
    "<https://solved.ac/search?query=in_class:2>   "
   ]
  },
  {
   "cell_type": "markdown",
   "metadata": {},
   "source": [
    "## 1번 체스판 다시 칠하기  \n",
    "\n",
    "<https://www.acmicpc.net/problem/1018>  "
   ]
  },
  {
   "cell_type": "markdown",
   "metadata": {},
   "source": [
    "###### N,M 크기를  받고 보드 만들기  \n",
    "\n",
    "nXm형태의 위치를 파악하기 쉽게 리스트 형태로 받았다.  "
   ]
  },
  {
   "cell_type": "code",
   "execution_count": 22,
   "metadata": {
    "scrolled": false
   },
   "outputs": [
    {
     "name": "stdout",
     "output_type": "stream",
     "text": [
      "10 13\n",
      "BBBBBBBBWBWBW\n",
      "BBBBBBBBBWBWB\n",
      "BBBBBBBBWBWBW\n",
      "BBBBBBBBBWBWB\n",
      "BBBBBBBBWBWBW\n",
      "BBBBBBBBBWBWB\n",
      "BBBBBBBBWBWBW\n",
      "BBBBBBBBBWBWB\n",
      "WWWWWWWWWWBWB\n",
      "WWWWWWWWWWBWB\n"
     ]
    }
   ],
   "source": [
    "n, m=map(int,input().split())\n",
    "if 8<=n<=50 and 8<=m<=50:\n",
    "    board = [input() for i in range(n)]"
   ]
  },
  {
   "cell_type": "markdown",
   "metadata": {},
   "source": [
    "###### 위치가 짝수일 때와 홀수일 때로 나눠서  W, B가 아닐 때마다 점수를 추가해준 다음 가장 최소가 되는 값만 찾아내면 된다.  \n",
    "\n",
    "따라서 n * m의 보드에서 가능한 경우의 수는 n-7 * m-7이다. ex)10 13을 입력받을 경우 18가지.  \n",
    "\n",
    "8 * 8로 잘라주기 위해서 k와 l을 (i,i+8), (j,j+8)로 한정짓는다.  \n",
    "\n",
    "k+l이 홀수일 경우와 짝수일 경우, W로 시작할 경우와 B로 시작할 경우를 나눠서 모든 경우의 수를 반복문으로 확인해준다.  \n",
    "\n",
    "마지막으로 total_score에 들어있는 값들 중 최솟값을 구해준다.  "
   ]
  },
  {
   "cell_type": "code",
   "execution_count": 25,
   "metadata": {
    "scrolled": false
   },
   "outputs": [
    {
     "name": "stdout",
     "output_type": "stream",
     "text": [
      "12\n"
     ]
    }
   ],
   "source": [
    "total_score=[]\n",
    "# 보드에서 경우의 수 나누어주기\n",
    "for i in range(n-7):\n",
    "    for j in range(m-7):\n",
    "        count_w=0 #w가 아닐때\n",
    "        count_b=0 #b가 아닐때\n",
    "        #8*8 크기로 잘라주기\n",
    "        for k in range(i,i+8):\n",
    "             for l in range (j,j+8):\n",
    "                #각 경우의 수마다 비교해서 점수 추가하기\n",
    "                if (k+l)%2==0:\n",
    "                    if board[k][l]!='W':                            \n",
    "                        count_w=count_w+1\n",
    "                    if board[k][l]!='B':\n",
    "                        count_b=count_b+1\n",
    "                else:\n",
    "                    if board[k][l]!='W':\n",
    "                        count_b=count_b+1\n",
    "                    if board[k][l]!='B':                            \n",
    "                        count_w=count_w+1\n",
    "        # 점수들 한 list에 모아주기\n",
    "        total_score.append(count_w)\n",
    "        total_score.append(count_b)\n",
    "print(min(total_score)) #최솟값 출력"
   ]
  },
  {
   "cell_type": "markdown",
   "metadata": {},
   "source": [
    "## 2번 직사각형에서 탈출  \n",
    "\n",
    "<https://www.acmicpc.net/problem/1085>  "
   ]
  },
  {
   "cell_type": "markdown",
   "metadata": {},
   "source": [
    "###### x,y,w,h 입력받기  "
   ]
  },
  {
   "cell_type": "code",
   "execution_count": 31,
   "metadata": {},
   "outputs": [
    {
     "name": "stdout",
     "output_type": "stream",
     "text": [
      "6 2 10 3\n"
     ]
    }
   ],
   "source": [
    "x,y,w,h =map(int,input().split())"
   ]
  },
  {
   "cell_type": "markdown",
   "metadata": {},
   "source": [
    "###### 0과 가까운 경계선은 x, y로 w,h와 가까운 경계선은 w-x, h-y로 표현해주는 대신 음수가 나올수 있기때문에 abs()를 이용하여 절댓값으로 표현.  "
   ]
  },
  {
   "cell_type": "code",
   "execution_count": 30,
   "metadata": {
    "scrolled": true
   },
   "outputs": [
    {
     "data": {
      "text/plain": [
       "1"
      ]
     },
     "execution_count": 30,
     "metadata": {},
     "output_type": "execute_result"
    }
   ],
   "source": [
    "print(min(x,y,abs(w-x),abs(h-y)))"
   ]
  },
  {
   "cell_type": "markdown",
   "metadata": {},
   "source": [
    "## 3번 단어 정렬  \n",
    "\n",
    "<https://www.acmicpc.net/problem/1181>  "
   ]
  },
  {
   "cell_type": "markdown",
   "metadata": {},
   "source": [
    "###### 단어 리스트 입력받기  "
   ]
  },
  {
   "cell_type": "code",
   "execution_count": 90,
   "metadata": {},
   "outputs": [
    {
     "name": "stdout",
     "output_type": "stream",
     "text": [
      "13\n",
      "but\n",
      "i\n",
      "wont\n",
      "hesitate\n",
      "no\n",
      "more\n",
      "no\n",
      "more\n",
      "it\n",
      "cannot\n",
      "wait\n",
      "im\n",
      "yours\n"
     ]
    }
   ],
   "source": [
    "n=int(input())\n",
    "word_list=[input() for i in range(n)]"
   ]
  },
  {
   "cell_type": "markdown",
   "metadata": {},
   "source": [
    "###### 길이가 짧은 것부터 같으면 사전 순으로 정렬하기 (단, 중복 제외)    \n",
    "\n",
    "set함수로 중복을 먼저 제거하였다.  \n",
    "\n",
    "단어의 길이를 먼저, 그다음에 단어를 하나의 tuple로 만들어 리스트를 다시 만들어주었다.  \n",
    "\n",
    "sort를 이용하면 앞에 숫자가 들어갔기 떄문에 길이, 알파벳 순으로 정렬된다.  "
   ]
  },
  {
   "cell_type": "code",
   "execution_count": 98,
   "metadata": {
    "scrolled": true
   },
   "outputs": [
    {
     "name": "stdout",
     "output_type": "stream",
     "text": [
      "[(1, 'i'), (2, 'im'), (2, 'it'), (2, 'no'), (3, 'but'), (4, 'more'), (4, 'wait'), (4, 'wont'), (5, 'yours'), (6, 'cannot'), (8, 'hesitate')]\n",
      "i\n",
      "im\n",
      "it\n",
      "no\n",
      "but\n",
      "more\n",
      "wait\n",
      "wont\n",
      "yours\n",
      "cannot\n",
      "hesitate\n"
     ]
    }
   ],
   "source": [
    "# 중복 단어 제거\n",
    "word_list=list(set(word_list))\n",
    "len_word_list=[]\n",
    "# (단어 길이, 단어) 형태의 tuple 만들기\n",
    "for i in word_list:\n",
    "    len_word_list.append((len(i),i))\n",
    "# 정렬하기\n",
    "len_word_list.sort()\n",
    "print(len_word_list)\n",
    "# 출력하기\n",
    "for j,k in len_word_list:\n",
    "    print(k)"
   ]
  },
  {
   "cell_type": "markdown",
   "metadata": {},
   "source": [
    "## 4번 팰린드롬수  \n",
    "  \n",
    "<https://www.acmicpc.net/problem/1259>  "
   ]
  },
  {
   "cell_type": "markdown",
   "metadata": {},
   "source": [
    "###### 앞에서 읽어도 뒤에서 읽어도 같은 숫자 찾기\n",
    "\n",
    "0을 입력하면 반복문이 끝나게 while과 if를 이용하였다.  \n",
    "\n",
    "입력받은 숫자는 위치를 찾기 편하게 문자형으로 입력받았다.  \n",
    "\n",
    "입력받은 숫자의 길이/2 만큼의 반복문을 돌리면 반대쪽은 (숫자의 길이-i-1)로 대응된다.  \n",
    "\n",
    "한가지 숫자라도 값이 다르면 False 값을 가지고 'no'를 출력하면 'yes'를 출력하는 것을 만들 때보다 길이가 짧아질 수 있다.  "
   ]
  },
  {
   "cell_type": "code",
   "execution_count": 130,
   "metadata": {},
   "outputs": [
    {
     "name": "stdout",
     "output_type": "stream",
     "text": [
      "121\n",
      "yes\n",
      "1231\n",
      "no\n",
      "12421\n",
      "yes\n",
      "0\n"
     ]
    }
   ],
   "source": [
    "while True:\n",
    "    word=input() # 숫자를 무한으로 입력받기 위해 while문 사용\n",
    "    quest=True # 한가지 입력값을 처리하고나서 True, False값을 True로 초기화\n",
    "    if word=='0': # 0을 입력하면 반복문 종료\n",
    "        break\n",
    "    else:\n",
    "        word_len=len(word)\n",
    "        for i in range(int((word_len)/2)): #단어 길이의 반만 확인하면 반대쪽 숫자와 대응된다.\n",
    "                if word[i]!=word[word_len-1-i]: #반대쪽 숫자와 대응하기 위해서 word_len-1-i 사용\n",
    "                    quest=False # 하나의 경우라도 False가 나오면 반복문 종료\n",
    "                    continue\n",
    "        if quest==False: # False가 나오면 바로 'no' 출력\n",
    "            print('no')\n",
    "        else: print('yes')"
   ]
  },
  {
   "cell_type": "markdown",
   "metadata": {},
   "source": [
    "## 5번 영화감독 숌  \n",
    "\n",
    "<https://www.acmicpc.net/problem/1436>  "
   ]
  },
  {
   "cell_type": "markdown",
   "metadata": {},
   "source": [
    "###### 666이 적어도 3개이상 연속으로 들어가는 수를 만든다  \n",
    "\n",
    "처음에 문제를 풀 때 중간에 666이 3개 이상 들어가는 경우를 제외해서 틀렸다.  \n",
    "\n",
    "list666에 가장 작은 숫자인 666부터 '666'이 문자열로 들어가있는 숫자들을 확인해서 추가하였다.  \n",
    "\n",
    "입력받은 숫자가 list666의 길이보다 크면 계속 추가해주었고 list666[num-1]을 통하여 값을 출력해준다.  "
   ]
  },
  {
   "cell_type": "code",
   "execution_count": 169,
   "metadata": {},
   "outputs": [
    {
     "name": "stdout",
     "output_type": "stream",
     "text": [
      "3\n",
      "2666\n"
     ]
    }
   ],
   "source": [
    "num=int(input())\n",
    "list666=[]\n",
    "i=666\n",
    "while len(list666)<num:\n",
    "    if '666' in str(i):\n",
    "        list666.append(i)\n",
    "    i=i+1\n",
    "print(list666[num-1])\n"
   ]
  },
  {
   "cell_type": "markdown",
   "metadata": {},
   "source": [
    "## 6번 랜선 자르기\n",
    "\n",
    "<https://www.acmicpc.net/problem/1654>  "
   ]
  },
  {
   "cell_type": "markdown",
   "metadata": {},
   "source": [
    "###### 숫자 입력받기   "
   ]
  },
  {
   "cell_type": "code",
   "execution_count": 1,
   "metadata": {},
   "outputs": [
    {
     "name": "stdout",
     "output_type": "stream",
     "text": [
      "4 11\n",
      "802\n",
      "743\n",
      "457\n",
      "539\n"
     ]
    }
   ],
   "source": [
    "k,n=map(int,input().split())\n",
    "\n",
    "lan=[int(input()) for i in range(k)]"
   ]
  },
  {
   "cell_type": "markdown",
   "metadata": {},
   "source": [
    "###### 시간초과된 코드  \n",
    "\n",
    "for문을 이용하니까 연산자가 너무 많아서 시간이 초과되었던 것 같다.  "
   ]
  },
  {
   "cell_type": "code",
   "execution_count": 2,
   "metadata": {
    "scrolled": true
   },
   "outputs": [
    {
     "name": "stdout",
     "output_type": "stream",
     "text": [
      "200\n"
     ]
    }
   ],
   "source": [
    "div_list=[]\n",
    "for i in range(min(lan)):\n",
    "    div=int(min(lan))-i\n",
    "    count=[]\n",
    "    for w in lan:\n",
    "        count.append(w//div)\n",
    "    n_result=0\n",
    "    for j in range(k):\n",
    "        n_result=n_result+count[j]\n",
    "    if n_result==n:\n",
    "        div_list.append(div)\n",
    "print(max(div_list))"
   ]
  },
  {
   "cell_type": "markdown",
   "metadata": {},
   "source": [
    "###### 이진탐색을 이용하여보자.   \n",
    "\n",
    "이진탐색이란 마치 병뚜껑 숫자맞추기를 할 때 50을 먼저 외치고 다음에 25나 75를 외치는 것처럼 가운데에 위치한 값들을 기반으로 탐색하는 것이다.  \n",
    "정렬된 데이터일 때 사용 가능하다.  \n",
    "따라서 입력받은 값들을 기준으로 max값과 1을 양 끝 값으로 놓는다.  \n",
    "시작과 끝이 같을 때 까지 while문을 돌련준다.  \n",
    "중간값을 구하고 이 값으로 입력받은 값들을 나누어준다.  \n",
    "이때 잘라진 갯수가 n보다 크면 시작값에 중간값+1을, 작으면 끝값을 중간값-1을 해준다.  \n",
    "while문이 다 돌고 나면 그 중 작은 값이 정답이다."
   ]
  },
  {
   "cell_type": "code",
   "execution_count": 10,
   "metadata": {},
   "outputs": [
    {
     "name": "stdout",
     "output_type": "stream",
     "text": [
      "200\n"
     ]
    }
   ],
   "source": [
    "start , end= 1,max(lan) #시작값과 끝값 구하기\n",
    "while start<=end: #루프를 돌기위한 조건문\n",
    "    mid=(start+end)//2 #중간값 설정\n",
    "    cutting=0 #잘라진 선의 갯수 선언\n",
    "    for i in lan:\n",
    "        cutting+=i//mid #잘라진 선의 갯수 구하는 for문\n",
    "    if cutting>=n: #n과 잘라진 선의 크기 비교를 통한 중간값 찾기\n",
    "        start=mid+1 \n",
    "    else:\n",
    "        end=mid-1\n",
    "print(min(start,end))"
   ]
  },
  {
   "cell_type": "markdown",
   "metadata": {},
   "source": [
    "## 7번 스택 수열\n",
    "\n",
    "<https://www.acmicpc.net/problem/1874>  "
   ]
  },
  {
   "cell_type": "markdown",
   "metadata": {},
   "source": [
    "###### 스택과 푸쉬, 팝 이해하기  \n",
    "\n",
    "push를 세 번 하면 [1,2,3] 스택이 쌓이게 되고 여기서 pop을 하면 3이 출력된다.  \n",
    "\n",
    "n을 통해 입력할 숫자의 갯수를 입력받고 num을 통해 숫자를 입력받는다.  \n",
    "count는 입력받을 숫자가 stack에 입력되도록 해준다. 0으로 두면 0부터 시작이다.  \n",
    "따라서 1로 한다.\n",
    "result를 통해 +와 -를 입력받고 stack에는 count에 생긴 숫자들을 쌓아둔다.\n",
    "while문을 통해 stack을 완성하고 if문을 통해 해당 숫자가 나오면 -를 입력한 뒤  \n",
    "pop해서 숫자를 제거한다."
   ]
  },
  {
   "cell_type": "code",
   "execution_count": 28,
   "metadata": {},
   "outputs": [
    {
     "name": "stdout",
     "output_type": "stream",
     "text": [
      "8\n",
      "4\n",
      "3\n",
      "6\n",
      "8\n",
      "7\n",
      "5\n",
      "2\n",
      "1\n",
      "+\n",
      "+\n",
      "+\n",
      "+\n",
      "-\n",
      "-\n",
      "+\n",
      "+\n",
      "-\n",
      "+\n",
      "+\n",
      "-\n",
      "-\n",
      "-\n",
      "-\n",
      "-\n"
     ]
    }
   ],
   "source": [
    "n=int(input())\n",
    "count=1 #count=1로 해줘야 0부터 숫자를 세지않는다.\n",
    "result=[] # +와 -를 저장하기 위한 리스트\n",
    "stack=[] # 쌓인 숫자를 저장하기 위한 리스트\n",
    "temp=True # 불가능한 경우에 False처리하기 위한 temp\n",
    "for i in range(n):\n",
    "    num=int(input()) \n",
    "    while count<=num: #num과 같거나 작아질때 까지 stack에 숫자를 입력받는다.\n",
    "        stack.append(count)\n",
    "        result.append('+') #입력받은 숫자만큼 결과에 +를 입력해준다.\n",
    "        count=count+1\n",
    "    if stack[-1]==num: #스택의 마지막 숫자가 num과 같을 경우 해당 숫자를 pop하고 -를 입력해준다.\n",
    "        stack.pop()\n",
    "        result.append('-')\n",
    "    else:\n",
    "        temp=False # if문이 적용되지 않는 경우에는 False를 전달해준다.\n",
    "        \n",
    "\n",
    "if temp==False:\n",
    "    print('NO')\n",
    "else:\n",
    "    for j in result:\n",
    "        print(j)"
   ]
  },
  {
   "cell_type": "markdown",
   "metadata": {},
   "source": [
    "## 8번 스택 수열\n",
    "\n",
    "<https://www.acmicpc.net/problem/1920>  "
   ]
  },
  {
   "cell_type": "markdown",
   "metadata": {},
   "source": [
    "###### 시간초과    \n",
    "\n",
    "list를 사용했을 때는 시간초과가 나왔고 set을 이용했을 때는 정상적으로 나왔다.  \n",
    "리스트의 in연산자를 통한 포함 여부의 시간 복잡도는 O(N)이다.  \n",
    "이분 탐색의 시간 복잡도는 O(logN) 이다.  \n",
    "Set과 Dictionary의 in연산을 통한 포함 여부 확인의 시간 복잡도는 O(1)이다.  \n",
    "따라서 N만 set으로 받아줘도 시간이 매우 단축된다."
   ]
  },
  {
   "cell_type": "code",
   "execution_count": 60,
   "metadata": {},
   "outputs": [
    {
     "name": "stdout",
     "output_type": "stream",
     "text": [
      "5\n",
      "4 1 5 2 3\n",
      "5\n",
      "1 3 7 9 5\n"
     ]
    }
   ],
   "source": [
    "n=int(input())\n",
    "N=set(map(int,input().split()))\n",
    "m=int(input())\n",
    "M=list(map(int,input().split()))"
   ]
  },
  {
   "cell_type": "code",
   "execution_count": 62,
   "metadata": {
    "scrolled": true
   },
   "outputs": [
    {
     "name": "stdout",
     "output_type": "stream",
     "text": [
      "1\n",
      "1\n",
      "0\n",
      "0\n",
      "1\n"
     ]
    }
   ],
   "source": [
    "for i in range(m):\n",
    "    if M[i] in N:\n",
    "        print(1)\n",
    "    else:\n",
    "        print(0)"
   ]
  }
 ],
 "metadata": {
  "kernelspec": {
   "display_name": "Python 3",
   "language": "python",
   "name": "python3"
  },
  "language_info": {
   "codemirror_mode": {
    "name": "ipython",
    "version": 3
   },
   "file_extension": ".py",
   "mimetype": "text/x-python",
   "name": "python",
   "nbconvert_exporter": "python",
   "pygments_lexer": "ipython3",
   "version": "3.8.5"
  }
 },
 "nbformat": 4,
 "nbformat_minor": 4
}
