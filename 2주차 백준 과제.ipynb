{
 "cells": [
  {
   "cell_type": "markdown",
   "metadata": {},
   "source": [
    "# GDSC ML파트 2주차 과제로 백준 10문제를 풀어보았다."
   ]
  },
  {
   "cell_type": "markdown",
   "metadata": {},
   "source": [
    "## Hello World\n",
    "\n",
    "https://www.acmicpc.net/problem/2557\n",
    "\n",
    "Hello World!를 출력해야하는데 Hello World를 출력하여서 한번 틀렸다.. 문제를 잘 읽어야한다."
   ]
  },
  {
   "cell_type": "code",
   "execution_count": 1,
   "metadata": {},
   "outputs": [
    {
     "name": "stdout",
     "output_type": "stream",
     "text": [
      "Hello World!\n"
     ]
    }
   ],
   "source": [
    "print(\"Hello World!\")"
   ]
  },
  {
   "cell_type": "markdown",
   "metadata": {},
   "source": [
    "## OX퀴즈\n",
    "\n",
    "https://www.acmicpc.net/problem/8958\n",
    "\n",
    "for문을 이용하여 입력받을 ox의 갯수를 입력받고 for문 중첩을 이용하여 ox의 길이를 파악하고 if문으로 ox 여부를 확인하였다.\n",
    "ox의 연속성에 따른 점수변화를 num_score로 두고 total_score을 num_score의 합으로 설정하였다."
   ]
  },
  {
   "cell_type": "code",
   "execution_count": 2,
   "metadata": {
    "scrolled": true
   },
   "outputs": [
    {
     "name": "stdout",
     "output_type": "stream",
     "text": [
      "5\n",
      "OOXXOXXOOO\n",
      "10\n",
      "OOXXOOXXOO\n",
      "9\n",
      "OXOXOXOXOXOXOX\n",
      "7\n",
      "OOOOOOOOOO\n",
      "55\n",
      "OOOOXOOOOXOOOOX\n",
      "30\n"
     ]
    }
   ],
   "source": [
    "num=int(input())\n",
    "for i in range(num):\n",
    "    ox=input()\n",
    "    total_score=0\n",
    "    num_score=0\n",
    "    for i in range(len(ox)):\n",
    "        if (ox[i]=='O') is True:\n",
    "            num_score=num_score+1\n",
    "        else:\n",
    "            num_score=0\n",
    "        total_score=total_score+num_score\n",
    "    print(total_score)"
   ]
  },
  {
   "cell_type": "markdown",
   "metadata": {},
   "source": [
    "## A+B\n",
    "\n",
    "https://www.acmicpc.net/problem/1000\n",
    "\n",
    "map을 이용하여 a와 b를 사이 공백으로 분류시켜주는 것이 필요한 문제이다."
   ]
  },
  {
   "cell_type": "code",
   "execution_count": 3,
   "metadata": {},
   "outputs": [
    {
     "name": "stdout",
     "output_type": "stream",
     "text": [
      "1 2\n",
      "3\n"
     ]
    }
   ],
   "source": [
    "a,b=map(int,input().split())\n",
    "if a >0 and b<10:\n",
    "    print(a+b)"
   ]
  },
  {
   "cell_type": "markdown",
   "metadata": {},
   "source": [
    "## A-B\n",
    "\n",
    "https://www.acmicpc.net/problem/1001\n",
    "\n",
    "위 문제와 마찬가지로 map을 이용하여 a와 b를 사이 공백으로 분류시켜주는 것이 필요한 문제이다."
   ]
  },
  {
   "cell_type": "code",
   "execution_count": 4,
   "metadata": {},
   "outputs": [
    {
     "name": "stdout",
     "output_type": "stream",
     "text": [
      "3 2\n",
      "1\n"
     ]
    }
   ],
   "source": [
    "a,b=map(int,input().split())\n",
    "if a >0 and b<10:\n",
    "    print(a-b)"
   ]
  },
  {
   "cell_type": "markdown",
   "metadata": {},
   "source": [
    "## A/B\n",
    "\n",
    "https://www.acmicpc.net/problem/1008\n",
    "\n",
    "위 문제와 마찬가지로 map을 이용하여 a와 b를 사이 공백으로 분류시켜주는 것이 필요한 문제이다."
   ]
  },
  {
   "cell_type": "code",
   "execution_count": 5,
   "metadata": {
    "scrolled": true
   },
   "outputs": [
    {
     "name": "stdout",
     "output_type": "stream",
     "text": [
      "1 3\n",
      "0.3333333333333333\n"
     ]
    }
   ],
   "source": [
    "a,b=map(int,input().split())\n",
    "if a >0 and b<10:\n",
    "    print(a/b)"
   ]
  },
  {
   "cell_type": "code",
   "execution_count": 11,
   "metadata": {},
   "outputs": [
    {
     "name": "stdout",
     "output_type": "stream",
     "text": [
      "4 5\n",
      "0.8\n"
     ]
    }
   ],
   "source": [
    "a,b=map(int,input().split())\n",
    "if a >0 and b<10:\n",
    "    print(a/b)"
   ]
  },
  {
   "cell_type": "markdown",
   "metadata": {},
   "source": [
    "## 소음\n",
    "\n",
    "https://www.acmicpc.net/problem/2935\n",
    "\n",
    "a와 b는 정수형으로 입력받고 + 와 * 는 문자형으로 입력받았다.\n",
    "a와 b가 10의 제곱 형태이므로 반복문을 통하여 10 ** i, 10 ** j로 제곱 형태를 판별하였고 + 와 * 는 if문으로 구분지어서 계산을 해주었다.\n",
    "파이썬에서는 제곱을 ** 형태로 표현하는 것을 상기해야한다."
   ]
  },
  {
   "cell_type": "code",
   "execution_count": 6,
   "metadata": {},
   "outputs": [
    {
     "name": "stdout",
     "output_type": "stream",
     "text": [
      "1000\n",
      "*\n",
      "100\n",
      "100000\n"
     ]
    }
   ],
   "source": [
    "a=int(input())\n",
    "cal=input()\n",
    "b=int(input())\n",
    "\n",
    "for i in range(99):\n",
    "    for j in range(99):\n",
    "        if (a==10**i) is True and (b==10**j) is True:\n",
    "            if cal=='+':\n",
    "                print(a+b)\n",
    "            if cal=='*':\n",
    "                print(a*b)"
   ]
  },
  {
   "cell_type": "code",
   "execution_count": 12,
   "metadata": {},
   "outputs": [
    {
     "name": "stdout",
     "output_type": "stream",
     "text": [
      "10000\n",
      "+\n",
      "10\n",
      "10010\n"
     ]
    }
   ],
   "source": [
    "a=int(input())\n",
    "cal=input()\n",
    "b=int(input())\n",
    "\n",
    "for i in range(99):\n",
    "    for j in range(99):\n",
    "        if (a==10**i) is True and (b==10**j) is True:\n",
    "            if cal=='+':\n",
    "                print(a+b)\n",
    "            if cal=='*':\n",
    "                print(a*b)"
   ]
  },
  {
   "cell_type": "markdown",
   "metadata": {},
   "source": [
    "## 윤년\n",
    "\n",
    "https://www.acmicpc.net/problem/2753\n",
    "\n",
    "입력받은 연도를 1 이상 4000 이하로 제한하고 연도를 4로 나눈 나머지가 0, 100으로 나눈 나머지가 0이 아닌 경우로 하나, 400으로 나눈 나머지가 0인 경우 하나로 나누어서 1을 출력해주고 나머지는 0을 출력하는 형태로 만들었다.\n",
    "나머지는 %로 구한다는 것을 상기해주었다."
   ]
  },
  {
   "cell_type": "code",
   "execution_count": 7,
   "metadata": {},
   "outputs": [
    {
     "name": "stdout",
     "output_type": "stream",
     "text": [
      "2000\n",
      "1\n"
     ]
    }
   ],
   "source": [
    "year=int(input())\n",
    "\n",
    "if year>=1 and year<=4000:\n",
    "    if year%4==0 and year%100!=0:\n",
    "        print(1)\n",
    "    elif year%400==0:\n",
    "        print(1)\n",
    "    else:\n",
    "        print(0)"
   ]
  },
  {
   "cell_type": "code",
   "execution_count": 13,
   "metadata": {},
   "outputs": [
    {
     "name": "stdout",
     "output_type": "stream",
     "text": [
      "1999\n",
      "0\n"
     ]
    }
   ],
   "source": [
    "year=int(input())\n",
    "\n",
    "if year>=1 and year<=4000:\n",
    "    if year%4==0 and year%100!=0:\n",
    "        print(1)\n",
    "    elif year%400==0:\n",
    "        print(1)\n",
    "    else:\n",
    "        print(0)"
   ]
  },
  {
   "cell_type": "markdown",
   "metadata": {},
   "source": [
    "## 알람 시계\n",
    "\n",
    "https://www.acmicpc.net/problem/2884\n",
    "\n",
    "위에 사칙연산 문제와 같이 map을 이용해서 시와 분을 분리하여 입력받는다.\n",
    "우선 시를 0 이상 23 이하, 분을 0 이상 59 이하로 한정해었다.\n",
    "첫번째 경우 분이 45 이상일 경우 분에서 45를 빼주더라도 시간은 변하지 않는다. 따라서 시간, 분-45 를 출력해주면 된다.\n",
    "두번째 경우 분이 45 미만일 경우 시가 하나 작아진다. 0 시 45 분 이전에는 날짜가 바뀌므로 23 에서 시를 빼주고 나머지 경우는 시에서 1 빼준다.\n",
    "분이 45 미만일 경우 60 - (45 - 분) 해주면 바뀐 분이 나온다. 따라서 분 + 15 로 표현해 주었다."
   ]
  },
  {
   "cell_type": "code",
   "execution_count": 8,
   "metadata": {},
   "outputs": [
    {
     "name": "stdout",
     "output_type": "stream",
     "text": [
      "10 10\n",
      "9 25\n"
     ]
    }
   ],
   "source": [
    "h,m=map(int,input().split())\n",
    "if 0<=h<=23 and 0<=m<=59 :\n",
    "    if m-45>=0:\n",
    "        print(h,m-45)\n",
    "    else:\n",
    "        if h-1<0:\n",
    "            print(23-h,m+15)\n",
    "        else:\n",
    "            print(h-1,m+15)"
   ]
  },
  {
   "cell_type": "code",
   "execution_count": 15,
   "metadata": {},
   "outputs": [
    {
     "name": "stdout",
     "output_type": "stream",
     "text": [
      "0 30\n",
      "23 45\n"
     ]
    }
   ],
   "source": [
    "h,m=map(int,input().split())\n",
    "if 0<=h<=23 and 0<=m<=59 :\n",
    "    if m-45>=0:\n",
    "        print(h,m-45)\n",
    "    else:\n",
    "        if h-1<0:\n",
    "            print(23-h,m+15)\n",
    "        else:\n",
    "            print(h-1,m+15)"
   ]
  },
  {
   "cell_type": "markdown",
   "metadata": {},
   "source": [
    "## TGN\n",
    "\n",
    "https://www.acmicpc.net/problem/5063\n",
    "\n",
    "test_case를 입력받아서 for문의 횟수를 한정시킨다.\n",
    "r, e, c를 map을 이용하여 입력받았으며 범위를 한정시켜주었다. 이때 (-10) ** 6으로 잘못 작성하여서 코드가 실행되지 않았다.\n",
    "광고 비용이 광고 수익과 일반 수익의 차보다 작을 때 광고를 하고 같으면 소용이 없고 크면 광고를 하지 않아야하므로 if문으로 구분시켰다."
   ]
  },
  {
   "cell_type": "code",
   "execution_count": 9,
   "metadata": {},
   "outputs": [
    {
     "name": "stdout",
     "output_type": "stream",
     "text": [
      "3\n",
      "0 100 70\n",
      "advertise\n",
      "100 130 30\n",
      "does not matter\n",
      "-100 -70 40\n",
      "do not advertise\n"
     ]
    }
   ],
   "source": [
    "test_case=int(input())\n",
    "\n",
    "for i in range(test_case):\n",
    "    r,e,c=map(int,input().split())\n",
    "    if -(10**6)<=r<=(10**6) and -(10**6)<=e<=(10**6) and 0<=c<=(10**6):\n",
    "        if e-r>c:\n",
    "            print('advertise')\n",
    "        elif e-r==c:\n",
    "            print('does not matter')\n",
    "        else:\n",
    "            print('do not advertise')"
   ]
  },
  {
   "cell_type": "markdown",
   "metadata": {},
   "source": [
    "## 크냐?\n",
    "\n",
    "https://www.acmicpc.net/problem/4101\n",
    "\n",
    "while 반복문을 사용하여 계속 두 숫자를 입력받았으며 map을 통하여 공백을 기준으로 숫자를 나누었다.\n",
    "먼저 두 숫자가 0이면 해당 while문이 정지를 하게 만들어주고, 그 뒤에 두 숫자의 범위가 True면 두 숫자의 대소비교를 진행하였다."
   ]
  },
  {
   "cell_type": "code",
   "execution_count": 10,
   "metadata": {},
   "outputs": [
    {
     "name": "stdout",
     "output_type": "stream",
     "text": [
      "1 19\n",
      "No\n",
      "4 4\n",
      "No\n",
      "23 14\n",
      "Yes\n",
      "0 0\n"
     ]
    }
   ],
   "source": [
    "while True:\n",
    "    a,b=map(int,input().split())\n",
    "    if a==0 and b==0:\n",
    "            break\n",
    "    if 0<a<=10**6 and 0<b<=10**6:\n",
    "        if a>b:\n",
    "            print(\"Yes\")\n",
    "        else:\n",
    "            print(\"No\")"
   ]
  }
 ],
 "metadata": {
  "kernelspec": {
   "display_name": "Python 3",
   "language": "python",
   "name": "python3"
  },
  "language_info": {
   "codemirror_mode": {
    "name": "ipython",
    "version": 3
   },
   "file_extension": ".py",
   "mimetype": "text/x-python",
   "name": "python",
   "nbconvert_exporter": "python",
   "pygments_lexer": "ipython3",
   "version": "3.8.5"
  }
 },
 "nbformat": 4,
 "nbformat_minor": 4
}
